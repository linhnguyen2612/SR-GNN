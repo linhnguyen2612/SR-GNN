{
  "nbformat": 4,
  "nbformat_minor": 0,
  "metadata": {
    "colab": {
      "provenance": [],
      "authorship_tag": "ABX9TyP/+j2Bib1cFJKMeS0PqKMw",
      "include_colab_link": true
    },
    "kernelspec": {
      "name": "python3",
      "display_name": "Python 3"
    },
    "language_info": {
      "name": "python"
    }
  },
  "cells": [
    {
      "cell_type": "markdown",
      "metadata": {
        "id": "view-in-github",
        "colab_type": "text"
      },
      "source": [
        "<a href=\"https://colab.research.google.com/github/linhnguyen2612/SR-GNN/blob/master/main.ipynb\" target=\"_parent\"><img src=\"https://colab.research.google.com/assets/colab-badge.svg\" alt=\"Open In Colab\"/></a>"
      ]
    },
    {
      "cell_type": "code",
      "execution_count": null,
      "metadata": {
        "id": "X23Vo67qG2xe"
      },
      "outputs": [],
      "source": [
        "#!/usr/bin/env python36\n",
        "# -*- coding: utf-8 -*-\n",
        "\"\"\"\n",
        "Created on July, 2018\n",
        "@author: Tangrizzly\n",
        "\"\"\"\n",
        "\n",
        "import argparse\n",
        "import pickle\n",
        "import time\n",
        "from utils import build_graph, Data, split_validation\n",
        "from model import *\n",
        "\n",
        "parser = argparse.ArgumentParser()\n",
        "parser.add_argument('--dataset', default='sample', help='dataset name: diginetica/yoochoose1_4/yoochoose1_64/sample')\n",
        "parser.add_argument('--batchSize', type=int, default=100, help='input batch size')\n",
        "parser.add_argument('--hiddenSize', type=int, default=100, help='hidden state size')\n",
        "parser.add_argument('--epoch', type=int, default=30, help='the number of epochs to train for')\n",
        "parser.add_argument('--lr', type=float, default=0.001, help='learning rate')  # [0.001, 0.0005, 0.0001]\n",
        "parser.add_argument('--lr_dc', type=float, default=0.1, help='learning rate decay rate')\n",
        "parser.add_argument('--lr_dc_step', type=int, default=3, help='the number of steps after which the learning rate decay')\n",
        "parser.add_argument('--l2', type=float, default=1e-5, help='l2 penalty')  # [0.001, 0.0005, 0.0001, 0.00005, 0.00001]\n",
        "parser.add_argument('--step', type=int, default=1, help='gnn propogation steps')\n",
        "parser.add_argument('--patience', type=int, default=10, help='the number of epoch to wait before early stop ')\n",
        "parser.add_argument('--nonhybrid', action='store_true', help='only use the global preference to predict')\n",
        "parser.add_argument('--validation', action='store_true', help='validation')\n",
        "parser.add_argument('--valid_portion', type=float, default=0.1, help='split the portion of training set as validation set')\n",
        "opt = parser.parse_args()\n",
        "print(opt)\n",
        "\n",
        "\n",
        "def main():\n",
        "    train_data = pickle.load(open('../datasets/' + opt.dataset + '/train.txt', 'rb'))\n",
        "    if opt.validation:\n",
        "        train_data, valid_data = split_validation(train_data, opt.valid_portion)\n",
        "        test_data = valid_data\n",
        "    else:\n",
        "        test_data = pickle.load(open('../datasets/' + opt.dataset + '/test.txt', 'rb'))\n",
        "    # all_train_seq = pickle.load(open('../datasets/' + opt.dataset + '/all_train_seq.txt', 'rb'))\n",
        "    # g = build_graph(all_train_seq)\n",
        "    train_data = Data(train_data, shuffle=True)\n",
        "    test_data = Data(test_data, shuffle=False)\n",
        "    # del all_train_seq, g\n",
        "    if opt.dataset == 'diginetica':\n",
        "        n_node = 43098\n",
        "    elif opt.dataset == 'yoochoose1_64' or opt.dataset == 'yoochoose1_4':\n",
        "        n_node = 37484\n",
        "    else:\n",
        "        n_node = 310\n",
        "\n",
        "    model = trans_to_cuda(SessionGraph(opt, n_node))\n",
        "\n",
        "    start = time.time()\n",
        "    best_result = [0, 0]\n",
        "    best_epoch = [0, 0]\n",
        "    bad_counter = 0\n",
        "    for epoch in range(opt.epoch):\n",
        "        print('-------------------------------------------------------')\n",
        "        print('epoch: ', epoch)\n",
        "        hit, mrr = train_test(model, train_data, test_data)\n",
        "        flag = 0\n",
        "        if hit >= best_result[0]:\n",
        "            best_result[0] = hit\n",
        "            best_epoch[0] = epoch\n",
        "            flag = 1\n",
        "        if mrr >= best_result[1]:\n",
        "            best_result[1] = mrr\n",
        "            best_epoch[1] = epoch\n",
        "            flag = 1\n",
        "        print('Best Result:')\n",
        "        print('\\tRecall@20:\\t%.4f\\tMMR@20:\\t%.4f\\tEpoch:\\t%d,\\t%d'% (best_result[0], best_result[1], best_epoch[0], best_epoch[1]))\n",
        "        bad_counter += 1 - flag\n",
        "        if bad_counter >= opt.patience:\n",
        "            break\n",
        "    print('-------------------------------------------------------')\n",
        "    end = time.time()\n",
        "    print(\"Run time: %f s\" % (end - start))\n",
        "\n",
        "\n",
        "if __name__ == '__main__':\n",
        "    main()"
      ]
    }
  ]
}